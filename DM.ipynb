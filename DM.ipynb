{
  "cells": [
    {
      "cell_type": "markdown",
      "metadata": {
        "id": "view-in-github",
        "colab_type": "text"
      },
      "source": [
        "<a href=\"https://colab.research.google.com/github/Abdelaleam/DM-Apriori/blob/main/DM.ipynb\" target=\"_parent\"><img src=\"https://colab.research.google.com/assets/colab-badge.svg\" alt=\"Open In Colab\"/></a>"
      ]
    },
    {
      "cell_type": "code",
      "execution_count": 1,
      "metadata": {
        "colab": {
          "base_uri": "https://localhost:8080/"
        },
        "id": "rAYo3adjyViI",
        "outputId": "048d4574-1e4b-4b8d-d3e4-3f827d0e38a8"
      },
      "outputs": [
        {
          "output_type": "stream",
          "name": "stdout",
          "text": [
            "Requirement already satisfied: openpyxl in /usr/local/lib/python3.10/dist-packages (3.1.5)\n",
            "Requirement already satisfied: et-xmlfile in /usr/local/lib/python3.10/dist-packages (from openpyxl) (2.0.0)\n"
          ]
        }
      ],
      "source": [
        "#Import Data\n",
        "from collections import defaultdict\n",
        "import matplotlib.pyplot as plt\n",
        "import seaborn as sns\n",
        "import pandas as pd\n",
        "import numpy as np\n",
        "import itertools\n",
        "from functools import reduce\n",
        "from itertools import combinations\n",
        "\n",
        "!pip install openpyxl"
      ]
    },
    {
      "cell_type": "code",
      "execution_count": 2,
      "metadata": {
        "id": "m5GwDbSmymw0"
      },
      "outputs": [],
      "source": [
        "file_path = '/content/Horizontal_Format.xlsx'\n",
        "Data=pd.read_excel(file_path)\n",
        "data = [set(str(row[1]).split(',')) for row in Data.itertuples(index=False)]\n",
        "items = set(item for transaction in data for item in transaction)"
      ]
    },
    {
      "cell_type": "code",
      "execution_count": 3,
      "metadata": {
        "id": "jkivaxIFMtuO"
      },
      "outputs": [],
      "source": [
        "# print(data)"
      ]
    },
    {
      "cell_type": "code",
      "execution_count": 4,
      "metadata": {
        "id": "X8H2uTHI9XCi"
      },
      "outputs": [],
      "source": [
        "#Variables\n",
        "min_support = 3\n",
        "min_conf = 0.8"
      ]
    },
    {
      "cell_type": "code",
      "execution_count": 5,
      "metadata": {
        "id": "k2buCfarDeK1"
      },
      "outputs": [],
      "source": [
        "# Generate combinations\n",
        "def generate_combinations(items, length):\n",
        "    if length == 1:\n",
        "        return [[item] for item in items]\n",
        "    combinations = []\n",
        "    for i in range(len(items)):\n",
        "        first_item = items[i]\n",
        "        remaining_combinations = generate_combinations(items[i + 1:], length - 1)\n",
        "        for combination in remaining_combinations:\n",
        "            combinations.append([first_item] + combination)\n",
        "    return combinations\n",
        "\n",
        "# Calculate sup\n",
        "def calculate_support(data, itemset):\n",
        "    support_count = 0\n",
        "    for transaction in data:\n",
        "        all_items_present = True\n",
        "        for item in itemset:\n",
        "            if item not in transaction:\n",
        "                all_items_present = False\n",
        "                break\n",
        "        if all_items_present:\n",
        "            support_count += 1\n",
        "    return support_count\n",
        "\n",
        "# Generate frequent itemsets\n",
        "def generate_frequent_itemsets(data, items, min_support, length):\n",
        "    frequent_itemsets = {}\n",
        "    combinations = generate_combinations(list(items), length)\n",
        "    for combination in combinations:\n",
        "        support = calculate_support(data, combination)\n",
        "        if support >= min_support:\n",
        "            frequent_itemsets[frozenset(combination)] = support\n",
        "    return frequent_itemsets"
      ]
    },
    {
      "cell_type": "code",
      "execution_count": 6,
      "metadata": {
        "id": "EiFR4xn2M7hr"
      },
      "outputs": [],
      "source": [
        "# Generate frequent itemsets for all lengths\n",
        "def generate_frequent_itemsets_for_lengths(data, items, min_support):\n",
        "    all_frequent_itemsets = {}\n",
        "    for length in range(1, len(items) + 1):\n",
        "        frequent_itemsets = generate_frequent_itemsets(data, items, min_support, length)\n",
        "        all_frequent_itemsets.update(frequent_itemsets)\n",
        "    return all_frequent_itemsets"
      ]
    },
    {
      "cell_type": "code",
      "execution_count": 7,
      "metadata": {
        "id": "MZ7Hnf98Dn1l"
      },
      "outputs": [],
      "source": [
        "# Display frequent itemsets and their support counts\n",
        "def display_frequent_itemsets(frequent_itemsets):\n",
        "    print(\"\\nFrequent Itemsets\")\n",
        "    current_level = None  #tracking_Variable\n",
        "    for itemset, support in sorted(frequent_itemsets.items(), key=lambda x: len(x[0])):\n",
        "        level = len(itemset)  # level of itemset\n",
        "\n",
        "\n",
        "        if level != current_level:\n",
        "            print(f\"\\nLevel {level}:\")\n",
        "            current_level = level\n",
        "\n",
        "\n",
        "        print(f\"Itemset: {set(itemset)}, Support: {support}\")"
      ]
    },
    {
      "cell_type": "code",
      "execution_count": 8,
      "metadata": {
        "id": "rDkG_OWjZI2t",
        "outputId": "c4fcde0f-4c98-457b-9bd5-e26cf3e8cfd6",
        "colab": {
          "base_uri": "https://localhost:8080/",
          "height": 807
        }
      },
      "outputs": [
        {
          "output_type": "display_data",
          "data": {
            "text/plain": [
              "<Figure size 1200x800 with 1 Axes>"
            ],
            "image/png": "[encoded data removed]"
          },
          "metadata": {}
        }
      ],
      "source": [
        "# Generate frequent itemsets (using your data, items, and min_support)\n",
        "frequent_itemsets = generate_frequent_itemsets_for_lengths(data, items, min_support)\n",
        "\n",
        "# Convert frequent itemsets and their support into a list of dictionaries\n",
        "frequent_itemsets_list = [{'Itemset': ' '.join(map(str, itemset)), 'Support': support}\n",
        "                          for itemset, support in frequent_itemsets.items()]\n",
        "\n",
        "# Convert the list to a DataFrame using pandas\n",
        "frequent_itemsets_df = pd.DataFrame(frequent_itemsets_list)\n",
        "\n",
        "# Sort the data by support to make it easier to read\n",
        "# frequent_itemsets_df = frequent_itemsets_df.sort_values(by='Support', ascending=False) دى اختيارى ع حسب احنا حابيين نعرضهم ازاى\n",
        "\n",
        "# Create a bar plot\n",
        "plt.figure(figsize=(12, 8))\n",
        "sns.barplot(data=frequent_itemsets_df, x='Support', y='Itemset', palette='coolwarm', hue='Itemset', dodge=False)\n",
        "\n",
        "# Customize titles and axes\n",
        "plt.title('Frequent Itemsets Support', fontsize=16)\n",
        "plt.xlabel('Support', fontsize=14)\n",
        "plt.ylabel('Itemsets', fontsize=14)\n",
        "plt.xticks(fontsize=12)\n",
        "plt.yticks(fontsize=12)\n",
        "plt.tight_layout()\n",
        "\n",
        "# Display the plot\n",
        "plt.show()\n"
      ]
    },
    {
      "cell_type": "code",
      "execution_count": 9,
      "metadata": {
        "id": "AknVQDWIZI2t",
        "outputId": "41197b8d-c658-4619-daee-8e4ac8e5e191",
        "colab": {
          "base_uri": "https://localhost:8080/"
        }
      },
      "outputs": [
        {
          "output_type": "stream",
          "name": "stdout",
          "text": [
            "\n",
            "Association Rules:\n",
            "Rule: {'K'} -> {'M'}, Confidence: 0.60\n",
            "Rule: {'M'} -> {'K'}, Confidence: 1.00\n",
            "Rule: {'Y'} -> {'K'}, Confidence: 1.00\n",
            "Rule: {'K'} -> {'Y'}, Confidence: 0.60\n",
            "Rule: {'E'} -> {'K'}, Confidence: 1.00\n",
            "Rule: {'K'} -> {'E'}, Confidence: 0.80\n",
            "Rule: {'E'} -> {'O'}, Confidence: 0.75\n",
            "Rule: {'O'} -> {'E'}, Confidence: 1.00\n",
            "Rule: {'K'} -> {'O'}, Confidence: 0.60\n",
            "Rule: {'O'} -> {'K'}, Confidence: 1.00\n",
            "Rule: {'K', 'E'} -> {'O'}, Confidence: 0.75\n",
            "Rule: {'O', 'E'} -> {'K'}, Confidence: 1.00\n",
            "Rule: {'O', 'K'} -> {'E'}, Confidence: 1.00\n"
          ]
        }
      ],
      "source": [
        "# Function to generate association rules\n",
        "def generate_association_rules(frequent_itemsets):\n",
        "    rules_list = []\n",
        "    for itemset in frequent_itemsets.keys():\n",
        "        if len(itemset) > 1:  # Only consider itemsets with more than one item\n",
        "            for item in itemset:\n",
        "                antecedent = itemset - frozenset([item])  # Left-hand side (A)\n",
        "                consequent = frozenset([item])  # Right-hand side (B)\n",
        "\n",
        "                if antecedent:  # Ensure antecedent is not empty\n",
        "                    # Calculate support and confidence\n",
        "                    support_antecedent = frequent_itemsets.get(antecedent, 0)\n",
        "                    support_union = frequent_itemsets[itemset]\n",
        "                    confidence = support_union / support_antecedent if support_antecedent > 0 else 0\n",
        "\n",
        "                    rules_list.append((antecedent, consequent,confidence))\n",
        "    return rules_list\n",
        "\n",
        "# Generate association rules\n",
        "association_rules = generate_association_rules(frequent_itemsets)\n",
        "\n",
        "# Display the rules\n",
        "print(\"\\nAssociation Rules:\")\n",
        "for antecedent, consequent, confidence in association_rules:\n",
        "    print(f\"Rule: {set(antecedent)} -> {set(consequent)}, Confidence: {confidence:.2f}\")\n"
      ]
    },
    {
      "cell_type": "code",
      "execution_count": 10,
      "metadata": {
        "id": "-Zsk9yqFZI2t",
        "outputId": "d981609c-df26-4c3b-f0df-41f044dce595",
        "colab": {
          "base_uri": "https://localhost:8080/"
        }
      },
      "outputs": [
        {
          "output_type": "stream",
          "name": "stdout",
          "text": [
            "\n",
            "Strong Rules:\n",
            "Rule: {'M'} -> {'K'}, Confidence: 1.00\n",
            "Rule: {'Y'} -> {'K'}, Confidence: 1.00\n",
            "Rule: {'E'} -> {'K'}, Confidence: 1.00\n",
            "Rule: {'K'} -> {'E'}, Confidence: 0.80\n",
            "Rule: {'O'} -> {'E'}, Confidence: 1.00\n",
            "Rule: {'O'} -> {'K'}, Confidence: 1.00\n",
            "Rule: {'O', 'E'} -> {'K'}, Confidence: 1.00\n",
            "Rule: {'O', 'K'} -> {'E'}, Confidence: 1.00\n"
          ]
        }
      ],
      "source": [
        "theRules =generate_association_rules(frequent_itemsets)\n",
        "def extract_strong_rules(theRules,min_conf):\n",
        "  strong_rules_list=[]\n",
        "  for antecedent, consequent, confidence in theRules:  #b loop 3la list rules bshof men el conf bta3o akbr mn min conf\n",
        "    if confidence >= min_conf:\n",
        "     strong_rules_list.append((antecedent, consequent, confidence))\n",
        "\n",
        "  return strong_rules_list\n",
        "\n",
        " #extract the strong rules\n",
        "strongRules =extract_strong_rules(theRules,min_conf)\n",
        "# Display the rules\n",
        "print(\"\\nStrong Rules:\")\n",
        "for antecedent, consequent, confidence in strongRules:\n",
        "    print(f\"Rule: {set(antecedent)} -> {set(consequent)}, Confidence: {confidence:.2f}\")"
      ]
    },
    {
      "cell_type": "code",
      "execution_count": 11,
      "metadata": {
        "id": "fcXHiufMZI2u",
        "outputId": "6ef88997-eaca-45e5-bfcb-77e98a01390b",
        "colab": {
          "base_uri": "https://localhost:8080/"
        }
      },
      "outputs": [
        {
          "output_type": "stream",
          "name": "stdout",
          "text": [
            "\n",
            "Association Rules with Lift:\n",
            "Rule: {'K'} -> {'M'},  Lift: 1.00\n",
            "Rule: {'M'} -> {'K'},  Lift: 1.00\n",
            "Rule: {'Y'} -> {'K'},  Lift: 1.00\n",
            "Rule: {'K'} -> {'Y'},  Lift: 1.00\n",
            "Rule: {'E'} -> {'K'},  Lift: 1.00\n",
            "Rule: {'K'} -> {'E'},  Lift: 1.00\n",
            "Rule: {'E'} -> {'O'},  Lift: 1.25\n",
            "Rule: {'O'} -> {'E'},  Lift: 1.25\n",
            "Rule: {'K'} -> {'O'},  Lift: 1.00\n",
            "Rule: {'O'} -> {'K'},  Lift: 1.00\n",
            "Rule: {'K', 'E'} -> {'O'},  Lift: 1.25\n",
            "Rule: {'O', 'E'} -> {'K'},  Lift: 1.00\n",
            "Rule: {'O', 'K'} -> {'E'},  Lift: 1.25\n"
          ]
        }
      ],
      "source": [
        "# Function to Calculate the dependencies between the items\n",
        "def calculate_lift(rules,frequent_itemsets):\n",
        "    lift_rules= []\n",
        "    for antecedent, consequent, confidence in rules:\n",
        "        support_antecedent = frequent_itemsets.get(antecedent, 0)\n",
        "        support_consequent = frequent_itemsets.get(consequent, 0)\n",
        "        support_union = frequent_itemsets.get(antecedent | consequent, 0) if (support_antecedent * support_consequent) > 0 else 0\n",
        "        #dividing the support count by number of transactions to get the probability , where lift= p(A ∪ B) / p(A) * p(B)\n",
        "        lift=support_union/len(data) / ((support_antecedent/len(data)) * (support_consequent)/len(data))\n",
        "        lift_rules.append((antecedent, consequent, lift))\n",
        "    return lift_rules\n",
        "\n",
        "#generate every association rule with its lift\n",
        "association_rules_with_lift = calculate_lift(association_rules, frequent_itemsets)\n",
        "\n",
        "# Display the lift\n",
        "print(\"\\nAssociation Rules with Lift:\")\n",
        "for antecedent, consequent, lift in association_rules_with_lift:\n",
        "    print(f\"Rule: {set(antecedent)} -> {set(consequent)},  Lift: {lift:.2f}\")"
      ]
    },
    {
      "cell_type": "code",
      "execution_count": 12,
      "metadata": {
        "id": "yTfPTuT4ZI2u",
        "outputId": "040b634d-153d-45fd-a283-7ed1cbdf2782",
        "colab": {
          "base_uri": "https://localhost:8080/"
        }
      },
      "outputs": [
        {
          "output_type": "stream",
          "name": "stdout",
          "text": [
            "\n",
            "Running algorithm with min_support = 2 and min_confidence = 0.6\n",
            "\n",
            "Frequent Itemsets\n",
            "\n",
            "Level 1:\n",
            "Itemset: {'M'}, Support: 3\n",
            "Itemset: {'Y'}, Support: 3\n",
            "Itemset: {'E'}, Support: 4\n",
            "Itemset: {'C'}, Support: 2\n",
            "Itemset: {'K'}, Support: 5\n",
            "Itemset: {'O'}, Support: 3\n",
            "Itemset: {'N'}, Support: 2\n",
            "\n",
            "Level 2:\n",
            "Itemset: {'M', 'Y'}, Support: 2\n",
            "Itemset: {'M', 'E'}, Support: 2\n",
            "Itemset: {'M', 'K'}, Support: 3\n",
            "Itemset: {'Y', 'E'}, Support: 2\n",
            "Itemset: {'K', 'Y'}, Support: 3\n",
            "Itemset: {'O', 'Y'}, Support: 2\n",
            "Itemset: {'N', 'Y'}, Support: 2\n",
            "Itemset: {'K', 'E'}, Support: 4\n",
            "Itemset: {'O', 'E'}, Support: 3\n",
            "Itemset: {'N', 'E'}, Support: 2\n",
            "Itemset: {'K', 'C'}, Support: 2\n",
            "Itemset: {'O', 'K'}, Support: 3\n",
            "Itemset: {'N', 'K'}, Support: 2\n",
            "Itemset: {'O', 'N'}, Support: 2\n",
            "\n",
            "Level 3:\n",
            "Itemset: {'M', 'K', 'Y'}, Support: 2\n",
            "Itemset: {'M', 'K', 'E'}, Support: 2\n",
            "Itemset: {'K', 'Y', 'E'}, Support: 2\n",
            "Itemset: {'O', 'Y', 'E'}, Support: 2\n",
            "Itemset: {'N', 'Y', 'E'}, Support: 2\n",
            "Itemset: {'O', 'K', 'Y'}, Support: 2\n",
            "Itemset: {'N', 'K', 'Y'}, Support: 2\n",
            "Itemset: {'O', 'N', 'Y'}, Support: 2\n",
            "Itemset: {'O', 'K', 'E'}, Support: 3\n",
            "Itemset: {'N', 'K', 'E'}, Support: 2\n",
            "Itemset: {'O', 'N', 'E'}, Support: 2\n",
            "Itemset: {'O', 'K', 'N'}, Support: 2\n",
            "\n",
            "Level 4:\n",
            "Itemset: {'O', 'K', 'Y', 'E'}, Support: 2\n",
            "Itemset: {'N', 'K', 'Y', 'E'}, Support: 2\n",
            "Itemset: {'O', 'N', 'Y', 'E'}, Support: 2\n",
            "Itemset: {'O', 'K', 'Y', 'N'}, Support: 2\n",
            "Itemset: {'O', 'K', 'N', 'E'}, Support: 2\n",
            "\n",
            "Level 5:\n",
            "Itemset: {'K', 'Y', 'O', 'N', 'E'}, Support: 2\n",
            "--------------------------------------------------\n",
            "\n",
            "Running algorithm with min_support = 4 and min_confidence = 0.7\n",
            "\n",
            "Frequent Itemsets\n",
            "\n",
            "Level 1:\n",
            "Itemset: {'E'}, Support: 4\n",
            "Itemset: {'K'}, Support: 5\n",
            "\n",
            "Level 2:\n",
            "Itemset: {'K', 'E'}, Support: 4\n",
            "--------------------------------------------------\n",
            "\n",
            "Running algorithm with min_support = 5 and min_confidence = 0.9\n",
            "\n",
            "Frequent Itemsets\n",
            "\n",
            "Level 1:\n",
            "Itemset: {'K'}, Support: 5\n",
            "--------------------------------------------------\n",
            "\n",
            "Running algorithm with min_support = 3 and min_confidence = 0.8\n",
            "\n",
            "Frequent Itemsets\n",
            "\n",
            "Level 1:\n",
            "Itemset: {'M'}, Support: 3\n",
            "Itemset: {'Y'}, Support: 3\n",
            "Itemset: {'E'}, Support: 4\n",
            "Itemset: {'K'}, Support: 5\n",
            "Itemset: {'O'}, Support: 3\n",
            "\n",
            "Level 2:\n",
            "Itemset: {'M', 'K'}, Support: 3\n",
            "Itemset: {'K', 'Y'}, Support: 3\n",
            "Itemset: {'K', 'E'}, Support: 4\n",
            "Itemset: {'O', 'E'}, Support: 3\n",
            "Itemset: {'O', 'K'}, Support: 3\n",
            "\n",
            "Level 3:\n",
            "Itemset: {'O', 'K', 'E'}, Support: 3\n",
            "--------------------------------------------------\n"
          ]
        }
      ],
      "source": [
        "def run_algorithm_with_different_support_confidence(data, items, support_values, confidence_values):\n",
        "    for min_support , min_conf in zip(support_values,confidence_values):\n",
        "            print(f\"\\nRunning algorithm with min_support = {min_support} and min_confidence = {min_conf}\")\n",
        "\n",
        "\n",
        "            # Generate frequent itemsets for the current min_support\n",
        "            frequent_itemsets = generate_frequent_itemsets_for_lengths(data, items, min_support)\n",
        "            display_frequent_itemsets(frequent_itemsets)\n",
        "            print(\"--------------------------------------------------\")\n",
        "\n",
        "\n",
        "\n",
        "items = set(item for transaction in data for item in transaction)\n",
        "\n",
        "# Define different support and confidence values\n",
        "support_values = [2, 4, 5,3]\n",
        "confidence_values = [0.6, 0.7, 0.9,0.8]\n",
        "run_algorithm_with_different_support_confidence(data, items, support_values, confidence_values)"
      ]
    }
  ],
  "metadata": {
    "colab": {
      "provenance": [],
      "include_colab_link": true
    },
    "kernelspec": {
      "display_name": "Python 3",
      "language": "python",
      "name": "python3"
    },
    "language_info": {
      "codemirror_mode": {
        "name": "ipython",
        "version": 3
      },
      "file_extension": ".py",
      "mimetype": "text/x-python",
      "name": "python",
      "nbconvert_exporter": "python",
      "pygments_lexer": "ipython3",
      "version": "3.12.5"
    }
  },
  "nbformat": 4,
  "nbformat_minor": 0
}
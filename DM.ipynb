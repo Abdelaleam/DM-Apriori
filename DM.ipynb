{
 "cells": [
  {
   "cell_type": "markdown",
   "metadata": {
    "colab_type": "text",
    "id": "view-in-github"
   },
   "source": [
    "<a href=\"https://colab.research.google.com/github/Abdelaleam/DM-Apriori/blob/main/DM.ipynb\" target=\"_parent\"><img src=\"https://colab.research.google.com/assets/colab-badge.svg\" alt=\"Open In Colab\"/></a>"
   ]
  },
  {
   "cell_type": "code",
   "execution_count": 30,
   "metadata": {
    "colab": {
     "base_uri": "https://localhost:8080/"
    },
    "id": "rAYo3adjyViI",
    "outputId": "aa00cdac-6eb7-4e53-d073-c7f8b8939629"
   },
   "outputs": [
    {
     "name": "stdout",
     "output_type": "stream",
     "text": [
      "Requirement already satisfied: openpyxl in c:\\users\\aa\\anaconda3\\lib\\site-packages (3.1.2)\n",
      "Requirement already satisfied: et-xmlfile in c:\\users\\aa\\anaconda3\\lib\\site-packages (from openpyxl) (1.1.0)\n"
     ]
    }
   ],
   "source": [
    "#Import Data\n",
    "from collections import defaultdict\n",
    "import matplotlib.pyplot as plt\n",
    "import seaborn as sns\n",
    "import pandas as pd\n",
    "import numpy as np\n",
    "import itertools\n",
    "from functools import reduce\n",
    "from itertools import combinations\n",
    "\n",
    "!pip install openpyxl"
   ]
  },
  {
   "cell_type": "code",
   "execution_count": 31,
   "metadata": {
    "id": "m5GwDbSmymw0"
   },
   "outputs": [],
   "source": [
    "file_path = 'D:/Downloads/DM-Apriori-main/DM-Apriori-main/Horizontal_Format.xlsx'\n",
    "Data=pd.read_excel(file_path)\n",
    "data = [set(str(row[1]).split(',')) for row in Data.itertuples(index=False)]"
   ]
  },
  {
   "cell_type": "code",
   "execution_count": 32,
   "metadata": {
    "id": "jkivaxIFMtuO"
   },
   "outputs": [],
   "source": [
    "# print(data)"
   ]
  },
  {
   "cell_type": "code",
   "execution_count": 33,
   "metadata": {
    "id": "X8H2uTHI9XCi"
   },
   "outputs": [],
   "source": [
    "#Variables\n",
    "min_support = 3\n",
    "min_conf = 0.6"
   ]
  },
  {
   "cell_type": "code",
   "execution_count": 34,
   "metadata": {
    "id": "k2buCfarDeK1"
   },
   "outputs": [],
   "source": [
    "#Function to generate combinations of items for a given length\n",
    "def generate_combinations(items, length):\n",
    "    return list(combinations(items, length))\n",
    "#Function to calculate support for a given itemset\n",
    "def calculate_support(data, itemset):\n",
    "    return sum(1 for transaction in data if all(item in transaction for item in itemset))\n",
    "#Function to generate frequent itemsets for a given length\n",
    "def generate_frequent_itemsets(data, items, min_support, length):\n",
    "    frequent_itemsets = {}\n",
    "    combinations_length = generate_combinations(items, length)\n",
    "\n",
    "    for combination in combinations_length:\n",
    "        support = calculate_support(data, combination)\n",
    "        if support >= min_support:\n",
    "            frequent_itemsets[frozenset(combination)] = support\n",
    "\n",
    "    return frequent_itemsets\n"
   ]
  },
  {
   "cell_type": "code",
   "execution_count": 35,
   "metadata": {
    "id": "EiFR4xn2M7hr"
   },
   "outputs": [],
   "source": [
    "#Generate frequent itemsets for different lengths\n",
    "items = set(item for transaction in data for item in transaction)\n",
    "frequent_itemsets = {}\n",
    "for length in range(1, len(items) + 1):\n",
    "    frequent_itemsets.update(generate_frequent_itemsets(data, items, min_support, length))"
   ]
  },
  {
   "cell_type": "code",
   "execution_count": 36,
   "metadata": {
    "colab": {
     "base_uri": "https://localhost:8080/"
    },
    "id": "MZ7Hnf98Dn1l",
    "outputId": "0cda6a92-a957-4315-f6a9-c6bbbae2eee9"
   },
   "outputs": [
    {
     "name": "stdout",
     "output_type": "stream",
     "text": [
      "\n",
      " Frequent Itemsets\n",
      "\n",
      "Level 1:\n",
      "Itemset: {'K'}, Support: 5\n",
      "Itemset: {'Y'}, Support: 3\n",
      "Itemset: {'E'}, Support: 4\n",
      "Itemset: {'O'}, Support: 3\n",
      "Itemset: {'M'}, Support: 3\n",
      "\n",
      "Level 2:\n",
      "Itemset: {'K', 'Y'}, Support: 3\n",
      "Itemset: {'K', 'E'}, Support: 4\n",
      "Itemset: {'O', 'K'}, Support: 3\n",
      "Itemset: {'M', 'K'}, Support: 3\n",
      "Itemset: {'O', 'E'}, Support: 3\n",
      "\n",
      "Level 3:\n",
      "Itemset: {'O', 'K', 'E'}, Support: 3\n"
     ]
    }
   ],
   "source": [
    "#Display frequent itemsets and their support counts\n",
    "print(\"\\n Frequent Itemsets\")\n",
    "current_level = None  # Variable to track the current level\n",
    "\n",
    "for itemset, support in frequent_itemsets.items():\n",
    "    level = len(itemset)  # Determine the level of the itemset\n",
    "\n",
    "    # Print header if the level has changed\n",
    "    if level != current_level:\n",
    "        print(f\"\\nLevel {level}:\")\n",
    "        current_level = level\n",
    "\n",
    "    # Print itemset information\n",
    "    print(f\"Itemset: {set(itemset)}, Support: {support}\")\n"
   ]
  },
  {
   "cell_type": "code",
   "execution_count": 37,
   "metadata": {},
   "outputs": [
    {
     "data": {
      "image/png": "[encoded data removed]",
      "text/plain": [
       "<Figure size 1200x800 with 1 Axes>"
      ]
     },
     "metadata": {},
     "output_type": "display_data"
    }
   ],
   "source": [
    "# Convert frequent itemsets and their support into a list of dictionaries\n",
    "frequent_itemsets_list = [{'Itemset': ', '.join(itemset), 'Support': support} for itemset, support in frequent_itemsets.items()]\n",
    "\n",
    "# Convert the list to a DataFrame using pandas\n",
    "frequent_itemsets_df = pd.DataFrame(frequent_itemsets_list)\n",
    "\n",
    "# Sort the data by support to make it easier to read\n",
    "# frequent_itemsets_df = frequent_itemsets_df.sort_values(by='Support', ascending=False) دى اختيارى ع حسب احنا حابيين نعرضهم ازاى\n",
    "\n",
    "# Create a bar plot\n",
    "plt.figure(figsize=(12, 8))\n",
    "sns.barplot(data=frequent_itemsets_df, x='Support', y='Itemset', palette='coolwarm', hue='Itemset', dodge=False)\n",
    "\n",
    "# Customize titles and axes\n",
    "plt.title('Frequent Itemsets Support', fontsize=16)\n",
    "plt.xlabel('Support', fontsize=14)\n",
    "plt.ylabel('Itemsets', fontsize=14)\n",
    "plt.xticks(fontsize=12)\n",
    "plt.yticks(fontsize=12)\n",
    "plt.tight_layout()\n",
    "\n",
    "# Display the plot\n",
    "plt.show()\n"
   ]
  },
  {
   "cell_type": "code",
   "execution_count": 38,
   "metadata": {},
   "outputs": [
    {
     "name": "stdout",
     "output_type": "stream",
     "text": [
      "\n",
      "Association Rules:\n",
      "Rule: {'Y'} -> {'K'}, Confidence: 1.00\n",
      "Rule: {'K'} -> {'Y'}, Confidence: 0.60\n",
      "Rule: {'E'} -> {'K'}, Confidence: 1.00\n",
      "Rule: {'K'} -> {'E'}, Confidence: 0.80\n",
      "Rule: {'K'} -> {'O'}, Confidence: 0.60\n",
      "Rule: {'O'} -> {'K'}, Confidence: 1.00\n",
      "Rule: {'K'} -> {'M'}, Confidence: 0.60\n",
      "Rule: {'M'} -> {'K'}, Confidence: 1.00\n",
      "Rule: {'E'} -> {'O'}, Confidence: 0.75\n",
      "Rule: {'O'} -> {'E'}, Confidence: 1.00\n",
      "Rule: {'K', 'E'} -> {'O'}, Confidence: 0.75\n",
      "Rule: {'O', 'E'} -> {'K'}, Confidence: 1.00\n",
      "Rule: {'O', 'K'} -> {'E'}, Confidence: 1.00\n"
     ]
    }
   ],
   "source": [
    "# Function to generate association rules\n",
    "def generate_association_rules(frequent_itemsets, min_confidence):\n",
    "    rules = []\n",
    "    for itemset in frequent_itemsets.keys():\n",
    "        if len(itemset) > 1:  # Only consider itemsets with more than one item\n",
    "            for item in itemset:\n",
    "                antecedent = itemset - frozenset([item])  # Left-hand side (A)\n",
    "                consequent = frozenset([item])  # Right-hand side (B)\n",
    "                \n",
    "                if antecedent:  # Ensure antecedent is not empty\n",
    "                    # Calculate support and confidence\n",
    "                    support_antecedent = frequent_itemsets.get(antecedent, 0)\n",
    "                    support_union = frequent_itemsets[itemset]\n",
    "                    confidence = support_union / support_antecedent if support_antecedent > 0 else 0\n",
    "                    \n",
    "                    # Add rule if confidence meets the threshold\n",
    "                    if confidence >= min_confidence:\n",
    "                        rules.append((antecedent, consequent, confidence))\n",
    "    return rules\n",
    "\n",
    "# Generate association rules\n",
    "association_rules = generate_association_rules(frequent_itemsets, min_conf)\n",
    "\n",
    "# Display the rules\n",
    "print(\"\\nAssociation Rules:\")\n",
    "for antecedent, consequent, confidence in association_rules:\n",
    "    print(f\"Rule: {set(antecedent)} -> {set(consequent)}, Confidence: {confidence:.2f}\")\n"
   ]
  },
  {
   "cell_type": "code",
   "execution_count": null,
   "metadata": {},
   "outputs": [],
   "source": []
  }
 ],
 "metadata": {
  "colab": {
   "authorship_tag": "ABX9TyMyLl0IpsFe6BMwN0Ka9bi9",
   "include_colab_link": true,
   "provenance": []
  },
  "kernelspec": {
   "display_name": "Python 3 (ipykernel)",
   "language": "python",
   "name": "python3"
  },
  "language_info": {
   "codemirror_mode": {
    "name": "ipython",
    "version": 3
   },
   "file_extension": ".py",
   "mimetype": "text/x-python",
   "name": "python",
   "nbconvert_exporter": "python",
   "pygments_lexer": "ipython3",
   "version": "3.12.4"
  }
 },
 "nbformat": 4,
 "nbformat_minor": 4
}

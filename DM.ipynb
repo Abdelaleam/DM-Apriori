{
  "nbformat": 4,
  "nbformat_minor": 0,
  "metadata": {
    "colab": {
      "provenance": [],
      "authorship_tag": "ABX9TyMyLl0IpsFe6BMwN0Ka9bi9",
      "include_colab_link": true
    },
    "kernelspec": {
      "name": "python3",
      "display_name": "Python 3"
    },
    "language_info": {
      "name": "python"
    }
  },
  "cells": [
    {
      "cell_type": "markdown",
      "metadata": {
        "id": "view-in-github",
        "colab_type": "text"
      },
      "source": [
        "<a href=\"https://colab.research.google.com/github/Abdelaleam/DM-Apriori/blob/main/DM.ipynb\" target=\"_parent\"><img src=\"https://colab.research.google.com/assets/colab-badge.svg\" alt=\"Open In Colab\"/></a>"
      ]
    },
    {
      "cell_type": "code",
      "execution_count": 60,
      "metadata": {
        "colab": {
          "base_uri": "https://localhost:8080/"
        },
        "id": "rAYo3adjyViI",
        "outputId": "aa00cdac-6eb7-4e53-d073-c7f8b8939629"
      },
      "outputs": [
        {
          "output_type": "stream",
          "name": "stdout",
          "text": [
            "Requirement already satisfied: openpyxl in /usr/local/lib/python3.10/dist-packages (3.1.5)\n",
            "Requirement already satisfied: et-xmlfile in /usr/local/lib/python3.10/dist-packages (from openpyxl) (2.0.0)\n"
          ]
        }
      ],
      "source": [
        "#Import Data\n",
        "from collections import defaultdict\n",
        "import pandas as pd\n",
        "import numpy as np\n",
        "import itertools\n",
        "from functools import reduce\n",
        "from itertools import combinations\n",
        "\n",
        "!pip install openpyxl"
      ]
    },
    {
      "cell_type": "code",
      "source": [
        "Data=pd.read_excel('/content/Horizontal_Format.xlsx')\n",
        "data = [set(str(row[1]).split(',')) for row in Data.itertuples(index=False)]"
      ],
      "metadata": {
        "id": "m5GwDbSmymw0"
      },
      "execution_count": 100,
      "outputs": []
    },
    {
      "cell_type": "code",
      "source": [
        "# print(data)"
      ],
      "metadata": {
        "id": "jkivaxIFMtuO"
      },
      "execution_count": 102,
      "outputs": []
    },
    {
      "cell_type": "code",
      "source": [
        "#Variables\n",
        "min_support = 3\n",
        "min_conf = 0.6"
      ],
      "metadata": {
        "id": "X8H2uTHI9XCi"
      },
      "execution_count": 103,
      "outputs": []
    },
    {
      "cell_type": "code",
      "source": [
        "#Function to generate combinations of items for a given length\n",
        "def generate_combinations(items, length):\n",
        "    return list(combinations(items, length))\n",
        "#Function to calculate support for a given itemset\n",
        "def calculate_support(data, itemset):\n",
        "    return sum(1 for transaction in data if all(item in transaction for item in itemset))\n",
        "#Function to generate frequent itemsets for a given length\n",
        "def generate_frequent_itemsets(data, items, min_support, length):\n",
        "    frequent_itemsets = {}\n",
        "    combinations_length = generate_combinations(items, length)\n",
        "\n",
        "    for combination in combinations_length:\n",
        "        support = calculate_support(data, combination)\n",
        "        if support >= min_support:\n",
        "            frequent_itemsets[frozenset(combination)] = support\n",
        "\n",
        "    return frequent_itemsets\n"
      ],
      "metadata": {
        "id": "k2buCfarDeK1"
      },
      "execution_count": 104,
      "outputs": []
    },
    {
      "cell_type": "code",
      "source": [
        "#Generate frequent itemsets for different lengths\n",
        "frequent_itemsets = {}\n",
        "for length in range(1, len(items) + 1):\n",
        "    frequent_itemsets.update(generate_frequent_itemsets(data, items, min_support, length))"
      ],
      "metadata": {
        "id": "EiFR4xn2M7hr"
      },
      "execution_count": 105,
      "outputs": []
    },
    {
      "cell_type": "code",
      "source": [
        "#Display frequent itemsets and their support counts\n",
        "print(\"\\n Frequent Itemsets\")\n",
        "current_level = None  # Variable to track the current level\n",
        "\n",
        "for itemset, support in frequent_itemsets.items():\n",
        "    level = len(itemset)  # Determine the level of the itemset\n",
        "\n",
        "    # Print header if the level has changed\n",
        "    if level != current_level:\n",
        "        print(f\"\\nLevel {level}:\")\n",
        "        current_level = level\n",
        "\n",
        "    # Print itemset information\n",
        "    print(f\"Itemset: {set(itemset)}, Support: {support}\")\n"
      ],
      "metadata": {
        "colab": {
          "base_uri": "https://localhost:8080/"
        },
        "id": "MZ7Hnf98Dn1l",
        "outputId": "0cda6a92-a957-4315-f6a9-c6bbbae2eee9"
      },
      "execution_count": 107,
      "outputs": [
        {
          "output_type": "stream",
          "name": "stdout",
          "text": [
            "\n",
            " Frequent Itemsets\n",
            "\n",
            "Level 1:\n",
            "Itemset: {'Y'}, Support: 3\n",
            "Itemset: {'O'}, Support: 3\n",
            "Itemset: {'E'}, Support: 4\n",
            "Itemset: {'K'}, Support: 5\n",
            "Itemset: {'M'}, Support: 3\n",
            "\n",
            "Level 2:\n",
            "Itemset: {'Y', 'K'}, Support: 3\n",
            "Itemset: {'E', 'O'}, Support: 3\n",
            "Itemset: {'K', 'O'}, Support: 3\n",
            "Itemset: {'E', 'K'}, Support: 4\n",
            "Itemset: {'K', 'M'}, Support: 3\n",
            "\n",
            "Level 3:\n",
            "Itemset: {'E', 'K', 'O'}, Support: 3\n"
          ]
        }
      ]
    }
  ]
}
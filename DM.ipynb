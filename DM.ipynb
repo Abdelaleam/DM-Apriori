{
 "cells": [
  {
   "cell_type": "markdown",
   "metadata": {
    "colab_type": "text",
    "id": "view-in-github"
   },
   "source": [
    "<a href=\"https://colab.research.google.com/github/Abdelaleam/DM-Apriori/blob/main/DM.ipynb\" target=\"_parent\"><img src=\"https://colab.research.google.com/assets/colab-badge.svg\" alt=\"Open In Colab\"/></a>"
   ]
  },
  {
   "cell_type": "code",
   "execution_count": 22,
   "metadata": {
    "colab": {
     "base_uri": "https://localhost:8080/"
    },
    "id": "rAYo3adjyViI",
    "outputId": "aa00cdac-6eb7-4e53-d073-c7f8b8939629"
   },
   "outputs": [
    {
     "name": "stdout",
     "output_type": "stream",
     "text": [
      "Requirement already satisfied: openpyxl in /Library/Frameworks/Python.framework/Versions/3.12/lib/python3.12/site-packages (3.1.5)\n",
      "Requirement already satisfied: et-xmlfile in /Library/Frameworks/Python.framework/Versions/3.12/lib/python3.12/site-packages (from openpyxl) (2.0.0)\n"
     ]
    }
   ],
   "source": [
    "#Import Data\n",
    "from collections import defaultdict\n",
    "import matplotlib.pyplot as plt\n",
    "import seaborn as sns\n",
    "import pandas as pd\n",
    "import numpy as np\n",
    "import itertools\n",
    "from functools import reduce\n",
    "from itertools import combinations\n",
    "\n",
    "!pip install openpyxl"
   ]
  },
  {
   "cell_type": "code",
   "execution_count": 23,
   "metadata": {
    "id": "m5GwDbSmymw0"
   },
   "outputs": [],
   "source": [
    "file_path = '/Users/shahdmohammed/Downloads/dm/Horizontal_Format.xlsx'\n",
    "Data=pd.read_excel(file_path)\n",
    "data = [set(str(row[1]).split(',')) for row in Data.itertuples(index=False)]"
   ]
  },
  {
   "cell_type": "code",
   "execution_count": 24,
   "metadata": {
    "id": "jkivaxIFMtuO"
   },
   "outputs": [],
   "source": [
    "# print(data)"
   ]
  },
  {
   "cell_type": "code",
   "execution_count": 25,
   "metadata": {
    "id": "X8H2uTHI9XCi"
   },
   "outputs": [],
   "source": [
    "#Variables\n",
    "min_support = 3\n",
    "min_conf = 0.8"
   ]
  },
  {
   "cell_type": "code",
   "execution_count": 26,
   "metadata": {
    "id": "k2buCfarDeK1"
   },
   "outputs": [],
   "source": [
    "#Function to generate combinations of items for a given length\n",
    "def generate_combinations(items, length):\n",
    "    return list(combinations(items, length))\n",
    "#Function to calculate support for a given itemset\n",
    "def calculate_support(data, itemset):\n",
    "    return sum(1 for transaction in data if all(item in transaction for item in itemset))\n",
    "#Function to generate frequent itemsets for a given length\n",
    "def generate_frequent_itemsets(data, items, min_support, length):\n",
    "    frequent_itemsets = {}\n",
    "    combinations_length = generate_combinations(items, length)\n",
    "\n",
    "    for combination in combinations_length:\n",
    "        support = calculate_support(data, combination)\n",
    "        if support >= min_support:\n",
    "            frequent_itemsets[frozenset(combination)] = support\n",
    "\n",
    "    return frequent_itemsets\n"
   ]
  },
  {
   "cell_type": "code",
   "execution_count": 27,
   "metadata": {
    "id": "EiFR4xn2M7hr"
   },
   "outputs": [],
   "source": [
    "#Generate frequent itemsets for different lengths\n",
    "def generate_frequent_itemsets_for_lengths(data, items, min_support):\n",
    "  items = set(item for transaction in data for item in transaction)\n",
    "  frequent_itemsets = {}\n",
    "  for length in range(1, len(items) + 1):\n",
    "      frequent_itemsets.update(generate_frequent_itemsets(data, items, min_support, length))\n",
    "  return frequent_itemsets   "
   ]
  },
  {
   "cell_type": "code",
   "execution_count": 28,
   "metadata": {
    "colab": {
     "base_uri": "https://localhost:8080/"
    },
    "id": "MZ7Hnf98Dn1l",
    "outputId": "0cda6a92-a957-4315-f6a9-c6bbbae2eee9"
   },
   "outputs": [
    {
     "name": "stdout",
     "output_type": "stream",
     "text": [
      "\n",
      " Frequent Itemsets\n",
      "\n",
      "Level 1:\n",
      "Itemset: {'Y'}, Support: 3\n",
      "Itemset: {'O'}, Support: 3\n",
      "Itemset: {'K'}, Support: 5\n",
      "Itemset: {'M'}, Support: 3\n",
      "Itemset: {'E'}, Support: 4\n",
      "\n",
      "Level 2:\n",
      "Itemset: {'Y', 'K'}, Support: 3\n",
      "Itemset: {'K', 'O'}, Support: 3\n",
      "Itemset: {'E', 'O'}, Support: 3\n",
      "Itemset: {'M', 'K'}, Support: 3\n",
      "Itemset: {'K', 'E'}, Support: 4\n",
      "\n",
      "Level 3:\n",
      "Itemset: {'K', 'O', 'E'}, Support: 3\n"
     ]
    }
   ],
   "source": [
    "#Display frequent itemsets and their support counts\n",
    "items = set(item for transaction in data for item in transaction)\n",
    "frequent_itemsets=generate_frequent_itemsets_for_lengths(data, items, min_support)\n",
    "def display_frequent_itemsets(frequent_itemsets):\n",
    "  \n",
    "  print(\"\\n Frequent Itemsets\")\n",
    "  current_level = None  # Variable to track the current level\n",
    "\n",
    "  for itemset, support in frequent_itemsets.items():\n",
    "    level = len(itemset)  # Determine the level of the itemset\n",
    "\n",
    "    # Print header if the level has changed\n",
    "    if level != current_level:\n",
    "        print(f\"\\nLevel {level}:\")\n",
    "        current_level = level\n",
    "\n",
    "    # Print itemset information\n",
    "    print(f\"Itemset: {set(itemset)}, Support: {support}\")\n",
    "\n",
    "display_frequent_itemsets(frequent_itemsets)   \n"
   ]
  },
  {
   "cell_type": "code",
   "execution_count": 29,
   "metadata": {},
   "outputs": [
    {
     "data": {
      "image/png": "[encoded data removed]",
      "text/plain": [
       "<Figure size 1200x800 with 1 Axes>"
      ]
     },
     "metadata": {},
     "output_type": "display_data"
    }
   ],
   "source": [
    "# Convert frequent itemsets and their support into a list of dictionaries\n",
    "frequent_itemsets_list = [{'Itemset': ', '.join(itemset), 'Support': support} for itemset, support in frequent_itemsets.items()]\n",
    "\n",
    "# Convert the list to a DataFrame using pandas\n",
    "frequent_itemsets_df = pd.DataFrame(frequent_itemsets_list)\n",
    "\n",
    "# Sort the data by support to make it easier to read\n",
    "# frequent_itemsets_df = frequent_itemsets_df.sort_values(by='Support', ascending=False) دى اختيارى ع حسب احنا حابيين نعرضهم ازاى\n",
    "\n",
    "# Create a bar plot\n",
    "plt.figure(figsize=(12, 8))\n",
    "sns.barplot(data=frequent_itemsets_df, x='Support', y='Itemset', palette='coolwarm', hue='Itemset', dodge=False)\n",
    "\n",
    "# Customize titles and axes\n",
    "plt.title('Frequent Itemsets Support', fontsize=16)\n",
    "plt.xlabel('Support', fontsize=14)\n",
    "plt.ylabel('Itemsets', fontsize=14)\n",
    "plt.xticks(fontsize=12)\n",
    "plt.yticks(fontsize=12)\n",
    "plt.tight_layout()\n",
    "\n",
    "# Display the plot\n",
    "plt.show()\n"
   ]
  },
  {
   "cell_type": "code",
   "execution_count": 30,
   "metadata": {},
   "outputs": [
    {
     "name": "stdout",
     "output_type": "stream",
     "text": [
      "\n",
      "Association Rules:\n",
      "Rule: {'K'} -> {'Y'}, Confidence: 0.60\n",
      "Rule: {'Y'} -> {'K'}, Confidence: 1.00\n",
      "Rule: {'O'} -> {'K'}, Confidence: 1.00\n",
      "Rule: {'K'} -> {'O'}, Confidence: 0.60\n",
      "Rule: {'O'} -> {'E'}, Confidence: 1.00\n",
      "Rule: {'E'} -> {'O'}, Confidence: 0.75\n",
      "Rule: {'K'} -> {'M'}, Confidence: 0.60\n",
      "Rule: {'M'} -> {'K'}, Confidence: 1.00\n",
      "Rule: {'E'} -> {'K'}, Confidence: 1.00\n",
      "Rule: {'K'} -> {'E'}, Confidence: 0.80\n",
      "Rule: {'E', 'O'} -> {'K'}, Confidence: 1.00\n",
      "Rule: {'K', 'E'} -> {'O'}, Confidence: 0.75\n",
      "Rule: {'K', 'O'} -> {'E'}, Confidence: 1.00\n"
     ]
    }
   ],
   "source": [
    "# Function to generate association rules\n",
    "def generate_association_rules(frequent_itemsets):\n",
    "    rules_list = []\n",
    "    for itemset in frequent_itemsets.keys():\n",
    "        if len(itemset) > 1:  # Only consider itemsets with more than one item\n",
    "            for item in itemset:\n",
    "                antecedent = itemset - frozenset([item])  # Left-hand side (A)\n",
    "                consequent = frozenset([item])  # Right-hand side (B)\n",
    "                \n",
    "                if antecedent:  # Ensure antecedent is not empty\n",
    "                    # Calculate support and confidence\n",
    "                    support_antecedent = frequent_itemsets.get(antecedent, 0)\n",
    "                    support_union = frequent_itemsets[itemset]\n",
    "                    confidence = support_union / support_antecedent if support_antecedent > 0 else 0\n",
    "                   \n",
    "                    rules_list.append((antecedent, consequent,confidence))\n",
    "    return rules_list\n",
    "\n",
    "# Generate association rules\n",
    "association_rules = generate_association_rules(frequent_itemsets)\n",
    "\n",
    "# Display the rules\n",
    "print(\"\\nAssociation Rules:\")\n",
    "for antecedent, consequent, confidence in association_rules:\n",
    "    print(f\"Rule: {set(antecedent)} -> {set(consequent)}, Confidence: {confidence:.2f}\")\n"
   ]
  },
  {
   "cell_type": "code",
   "execution_count": 31,
   "metadata": {},
   "outputs": [
    {
     "name": "stdout",
     "output_type": "stream",
     "text": [
      "\n",
      "Strong Rules:\n",
      "Rule: {'Y'} -> {'K'}, Confidence: 1.00\n",
      "Rule: {'O'} -> {'K'}, Confidence: 1.00\n",
      "Rule: {'O'} -> {'E'}, Confidence: 1.00\n",
      "Rule: {'M'} -> {'K'}, Confidence: 1.00\n",
      "Rule: {'E'} -> {'K'}, Confidence: 1.00\n",
      "Rule: {'K'} -> {'E'}, Confidence: 0.80\n",
      "Rule: {'E', 'O'} -> {'K'}, Confidence: 1.00\n",
      "Rule: {'K', 'O'} -> {'E'}, Confidence: 1.00\n"
     ]
    }
   ],
   "source": [
    "theRules =generate_association_rules(frequent_itemsets)\n",
    "def extract_strong_rules(theRules,min_conf):\n",
    "  strong_rules_list=[]\n",
    "  for antecedent, consequent, confidence in theRules:  #b loop 3la list rules bshof men el conf bta3o akbr mn min conf\n",
    "    if confidence >= min_conf:\n",
    "     strong_rules_list.append((antecedent, consequent, confidence)) \n",
    "\n",
    "  return strong_rules_list\n",
    "\n",
    " #extract the strong rules\n",
    "strongRules =extract_strong_rules(theRules,min_conf)\n",
    "# Display the rules\n",
    "print(\"\\nStrong Rules:\")\n",
    "for antecedent, consequent, confidence in strongRules:\n",
    "    print(f\"Rule: {set(antecedent)} -> {set(consequent)}, Confidence: {confidence:.2f}\")"
   ]
  },
  {
   "cell_type": "code",
   "execution_count": 32,
   "metadata": {},
   "outputs": [
    {
     "name": "stdout",
     "output_type": "stream",
     "text": [
      "\n",
      "Association Rules with Lift:\n",
      "Rule: {'K'} -> {'Y'},  Lift: 1.00\n",
      "Rule: {'Y'} -> {'K'},  Lift: 1.00\n",
      "Rule: {'O'} -> {'K'},  Lift: 1.00\n",
      "Rule: {'K'} -> {'O'},  Lift: 1.00\n",
      "Rule: {'O'} -> {'E'},  Lift: 1.25\n",
      "Rule: {'E'} -> {'O'},  Lift: 1.25\n",
      "Rule: {'K'} -> {'M'},  Lift: 1.00\n",
      "Rule: {'M'} -> {'K'},  Lift: 1.00\n",
      "Rule: {'E'} -> {'K'},  Lift: 1.00\n",
      "Rule: {'K'} -> {'E'},  Lift: 1.00\n",
      "Rule: {'E', 'O'} -> {'K'},  Lift: 1.00\n",
      "Rule: {'K', 'E'} -> {'O'},  Lift: 1.25\n",
      "Rule: {'K', 'O'} -> {'E'},  Lift: 1.25\n"
     ]
    }
   ],
   "source": [
    "# Function to Calculate the dependencies between the items\n",
    "def calculate_lift(rules,frequent_itemsets):\n",
    "    lift_rules= []\n",
    "    for antecedent, consequent, confidence in rules:\n",
    "        support_antecedent = frequent_itemsets.get(antecedent, 0)\n",
    "        support_consequent = frequent_itemsets.get(consequent, 0)\n",
    "        support_union = frequent_itemsets.get(antecedent | consequent, 0) if (support_antecedent * support_consequent) > 0 else 0\n",
    "        #dividing the support count by number of transactions to get the probability , where lift= p(A ∪ B) / p(A) * p(B)\n",
    "        lift=support_union/len(data) / ((support_antecedent/len(data)) * (support_consequent)/len(data))\n",
    "        lift_rules.append((antecedent, consequent, lift))\n",
    "    return lift_rules\n",
    "\n",
    "#generate every association rule with its lift\n",
    "association_rules_with_lift = calculate_lift(association_rules, frequent_itemsets)\n",
    "\n",
    "# Display the lift\n",
    "print(\"\\nAssociation Rules with Lift:\")\n",
    "for antecedent, consequent, lift in association_rules_with_lift:\n",
    "    print(f\"Rule: {set(antecedent)} -> {set(consequent)},  Lift: {lift:.2f}\")"
   ]
  },
  {
   "cell_type": "code",
   "execution_count": 33,
   "metadata": {},
   "outputs": [
    {
     "name": "stdout",
     "output_type": "stream",
     "text": [
      "\n",
      "Running algorithm with min_support = 2 and min_confidence = 0.6\n",
      "\n",
      " Frequent Itemsets\n",
      "\n",
      "Level 1:\n",
      "Itemset: {'Y'}, Support: 3\n",
      "Itemset: {'N'}, Support: 2\n",
      "Itemset: {'O'}, Support: 3\n",
      "Itemset: {'K'}, Support: 5\n",
      "Itemset: {'C'}, Support: 2\n",
      "Itemset: {'M'}, Support: 3\n",
      "Itemset: {'E'}, Support: 4\n",
      "\n",
      "Level 2:\n",
      "Itemset: {'Y', 'N'}, Support: 2\n",
      "Itemset: {'Y', 'O'}, Support: 2\n",
      "Itemset: {'Y', 'K'}, Support: 3\n",
      "Itemset: {'Y', 'M'}, Support: 2\n",
      "Itemset: {'Y', 'E'}, Support: 2\n",
      "Itemset: {'N', 'O'}, Support: 2\n",
      "Itemset: {'K', 'N'}, Support: 2\n",
      "Itemset: {'E', 'N'}, Support: 2\n",
      "Itemset: {'K', 'O'}, Support: 3\n",
      "Itemset: {'E', 'O'}, Support: 3\n",
      "Itemset: {'K', 'C'}, Support: 2\n",
      "Itemset: {'M', 'K'}, Support: 3\n",
      "Itemset: {'K', 'E'}, Support: 4\n",
      "Itemset: {'M', 'E'}, Support: 2\n",
      "\n",
      "Level 3:\n",
      "Itemset: {'Y', 'N', 'O'}, Support: 2\n",
      "Itemset: {'Y', 'K', 'N'}, Support: 2\n",
      "Itemset: {'Y', 'E', 'N'}, Support: 2\n",
      "Itemset: {'Y', 'K', 'O'}, Support: 2\n",
      "Itemset: {'Y', 'E', 'O'}, Support: 2\n",
      "Itemset: {'Y', 'K', 'M'}, Support: 2\n",
      "Itemset: {'Y', 'K', 'E'}, Support: 2\n",
      "Itemset: {'K', 'N', 'O'}, Support: 2\n",
      "Itemset: {'E', 'N', 'O'}, Support: 2\n",
      "Itemset: {'K', 'N', 'E'}, Support: 2\n",
      "Itemset: {'K', 'O', 'E'}, Support: 3\n",
      "Itemset: {'M', 'K', 'E'}, Support: 2\n",
      "\n",
      "Level 4:\n",
      "Itemset: {'Y', 'K', 'N', 'O'}, Support: 2\n",
      "Itemset: {'Y', 'E', 'N', 'O'}, Support: 2\n",
      "Itemset: {'Y', 'K', 'N', 'E'}, Support: 2\n",
      "Itemset: {'Y', 'K', 'O', 'E'}, Support: 2\n",
      "Itemset: {'K', 'N', 'O', 'E'}, Support: 2\n",
      "\n",
      "Level 5:\n",
      "Itemset: {'Y', 'E', 'N', 'O', 'K'}, Support: 2\n",
      "--------------------------------------------------\n",
      "\n",
      "Running algorithm with min_support = 4 and min_confidence = 0.7\n",
      "\n",
      " Frequent Itemsets\n",
      "\n",
      "Level 1:\n",
      "Itemset: {'K'}, Support: 5\n",
      "Itemset: {'E'}, Support: 4\n",
      "\n",
      "Level 2:\n",
      "Itemset: {'K', 'E'}, Support: 4\n",
      "--------------------------------------------------\n",
      "\n",
      "Running algorithm with min_support = 5 and min_confidence = 0.9\n",
      "\n",
      " Frequent Itemsets\n",
      "\n",
      "Level 1:\n",
      "Itemset: {'K'}, Support: 5\n",
      "--------------------------------------------------\n"
     ]
    }
   ],
   "source": [
    "def run_algorithm_with_different_support_confidence(data, items, support_values, confidence_values):\n",
    "    for min_support , min_conf in zip(support_values,confidence_values):\n",
    "            print(f\"\\nRunning algorithm with min_support = {min_support} and min_confidence = {min_conf}\")\n",
    "            \n",
    "            \n",
    "            # Generate frequent itemsets for the current min_support\n",
    "            frequent_itemsets = generate_frequent_itemsets_for_lengths(data, items, min_support)\n",
    "            display_frequent_itemsets(frequent_itemsets)\n",
    "            print(\"--------------------------------------------------\")\n",
    "            \n",
    "            \n",
    "\n",
    "items = set(item for transaction in data for item in transaction)\n",
    "\n",
    "# Define different support and confidence values\n",
    "support_values = [2, 4, 5] \n",
    "confidence_values = [0.6, 0.7, 0.9]  \n",
    "run_algorithm_with_different_support_confidence(data, items, support_values, confidence_values)"
   ]
  }
 ],
 "metadata": {
  "colab": {
   "authorship_tag": "ABX9TyMyLl0IpsFe6BMwN0Ka9bi9",
   "include_colab_link": true,
   "provenance": []
  },
  "kernelspec": {
   "display_name": "Python 3",
   "language": "python",
   "name": "python3"
  },
  "language_info": {
   "codemirror_mode": {
    "name": "ipython",
    "version": 3
   },
   "file_extension": ".py",
   "mimetype": "text/x-python",
   "name": "python",
   "nbconvert_exporter": "python",
   "pygments_lexer": "ipython3",
   "version": "3.12.5"
  }
 },
 "nbformat": 4,
 "nbformat_minor": 4
}
